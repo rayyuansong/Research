{
 "cells": [
  {
   "cell_type": "code",
   "execution_count": 1,
   "metadata": {},
   "outputs": [],
   "source": [
    "from MixingTime import *\n",
    "from numpy.linalg import LinAlgError\n",
    "import pandas as pd\n",
    "\n",
    "import pickle\n",
    "\n",
    "from AnalysisFunctions import *\n",
    "\n",
    "from RayFunctions import *\n",
    "\n",
    "import statsmodels.api as sm\n",
    "\n",
    "import matplotlib.pyplot as plt "
   ]
  },
  {
   "cell_type": "code",
   "execution_count": 2,
   "metadata": {},
   "outputs": [],
   "source": [
    "data = []\n",
    "\n",
    "n_nodes = 12 ## number of nodes\n",
    "n_districts = 3 ## number of districts\n",
    "n_sims = 30 ## number of simulations\n",
    "\n",
    "data_name = \"./{}nodes_{}dis_{}sims_data.pkl\".format(n_nodes, n_districts, n_sims)\n",
    "graph_name = \"{}nodes_{}dis_{}sims_graphs.pkl\".format(n_nodes, n_districts, n_sims)"
   ]
  },
  {
   "cell_type": "code",
   "execution_count": 3,
   "metadata": {},
   "outputs": [
    {
     "data": {
      "text/plain": [
       "'12nodes_3dis_30sims_graphs.pkl'"
      ]
     },
     "execution_count": 3,
     "metadata": {},
     "output_type": "execute_result"
    }
   ],
   "source": [
    "graph_name"
   ]
  },
  {
   "cell_type": "code",
   "execution_count": 4,
   "metadata": {},
   "outputs": [
    {
     "name": "stderr",
     "output_type": "stream",
     "text": [
      "C:\\Users\\yuans\\anaconda3\\envs\\SummerResearch\\lib\\site-packages\\numpy\\linalg\\linalg.py:2159: RuntimeWarning: overflow encountered in det\n",
      "  r = _umath_linalg.det(a, signature=signature)\n"
     ]
    },
    {
     "ename": "OverflowError",
     "evalue": "cannot convert float infinity to integer",
     "output_type": "error",
     "traceback": [
      "\u001b[1;31m---------------------------------------------------------------------------\u001b[0m",
      "\u001b[1;31mOverflowError\u001b[0m                             Traceback (most recent call last)",
      "\u001b[1;32m<ipython-input-4-b193f192ca42>\u001b[0m in \u001b[0;36m<module>\u001b[1;34m\u001b[0m\n\u001b[0;32m     32\u001b[0m     \u001b[0mtriangles_dict\u001b[0m \u001b[1;33m=\u001b[0m \u001b[0mnx\u001b[0m\u001b[1;33m.\u001b[0m\u001b[0mtriangles\u001b[0m\u001b[1;33m(\u001b[0m\u001b[0mgraph\u001b[0m\u001b[1;33m)\u001b[0m\u001b[1;33m\u001b[0m\u001b[1;33m\u001b[0m\u001b[0m\n\u001b[0;32m     33\u001b[0m \u001b[1;33m\u001b[0m\u001b[0m\n\u001b[1;32m---> 34\u001b[1;33m     data.append([meta.number_of_edges(), nx.density(meta), spanning_tree(meta), \\\n\u001b[0m\u001b[0;32m     35\u001b[0m                  \u001b[0mgraph\u001b[0m\u001b[1;33m.\u001b[0m\u001b[0mnumber_of_edges\u001b[0m\u001b[1;33m(\u001b[0m\u001b[1;33m)\u001b[0m\u001b[1;33m,\u001b[0m \u001b[0mnx\u001b[0m\u001b[1;33m.\u001b[0m\u001b[0mdensity\u001b[0m\u001b[1;33m(\u001b[0m\u001b[0mgraph\u001b[0m\u001b[1;33m)\u001b[0m\u001b[1;33m,\u001b[0m \u001b[0mspanning_tree\u001b[0m\u001b[1;33m(\u001b[0m\u001b[0mgraph\u001b[0m\u001b[1;33m)\u001b[0m\u001b[1;33m,\u001b[0m\u001b[0;31m\\\u001b[0m\u001b[1;33m\u001b[0m\u001b[1;33m\u001b[0m\u001b[0m\n\u001b[0;32m     36\u001b[0m                  sum(triangles_dict.values()),i])\n",
      "\u001b[1;32m~\\Desktop\\Research\\Kolesnik\\MixingTime.py\u001b[0m in \u001b[0;36mspanning_tree\u001b[1;34m(newGraph)\u001b[0m\n\u001b[0;32m    253\u001b[0m \u001b[1;33m\u001b[0m\u001b[0m\n\u001b[0;32m    254\u001b[0m   \u001b[1;31m#Find determinant (det = number of spanning trees)\u001b[0m\u001b[1;33m\u001b[0m\u001b[1;33m\u001b[0m\u001b[1;33m\u001b[0m\u001b[0m\n\u001b[1;32m--> 255\u001b[1;33m   \u001b[0mdet\u001b[0m \u001b[1;33m=\u001b[0m \u001b[0mround\u001b[0m\u001b[1;33m(\u001b[0m\u001b[0mnpla\u001b[0m\u001b[1;33m.\u001b[0m\u001b[0mdet\u001b[0m\u001b[1;33m(\u001b[0m\u001b[0mlaplminor\u001b[0m\u001b[1;33m)\u001b[0m\u001b[1;33m)\u001b[0m\u001b[1;33m\u001b[0m\u001b[1;33m\u001b[0m\u001b[0m\n\u001b[0m\u001b[0;32m    256\u001b[0m \u001b[1;33m\u001b[0m\u001b[0m\n\u001b[0;32m    257\u001b[0m   \u001b[1;32mreturn\u001b[0m \u001b[0mdet\u001b[0m\u001b[1;33m\u001b[0m\u001b[1;33m\u001b[0m\u001b[0m\n",
      "\u001b[1;31mOverflowError\u001b[0m: cannot convert float infinity to integer"
     ]
    }
   ],
   "source": [
    "graphs = []\n",
    "\n",
    "for i in range(n_sims):\n",
    "    invert = False\n",
    "    #print(\"Stuck A\")\n",
    "    while not invert:\n",
    "        #print(\"Stuck B\")\n",
    "        invert = True\n",
    "        graph = randomPlanar(n_nodes)\n",
    "        try:\n",
    "            stat = stationaryDist(graph, n_districts)\n",
    "        except LinAlgError as err:\n",
    "            invert = False\n",
    "    #print(\"Stuck C\")\n",
    "    allVariation = []\n",
    "    con = False\n",
    "    i = 0\n",
    "    while(con == False):\n",
    "        #print(\"Stuck D\")\n",
    "        p = single_steps(graph, n_districts, i)\n",
    "        distance = []\n",
    "        for j in range(len(p)):\n",
    "            distance.append(total_variation_distance(stat,p[j]))\n",
    "        allVariation.append(distance)\n",
    "        if(max(distance) <= .25):\n",
    "            con = True\n",
    "        i += 1\n",
    "    \n",
    "    graphs.append([graph, i])\n",
    "    \n",
    "    meta = create_meta(graph, n_districts)\n",
    "    triangles_dict = nx.triangles(graph)\n",
    "    \n",
    "    data.append([meta.number_of_edges(), nx.density(meta), spanning_tree(meta), \\\n",
    "                 graph.number_of_edges(), nx.density(graph), spanning_tree(graph),\\\n",
    "                 sum(triangles_dict.values()),i])"
   ]
  },
  {
   "cell_type": "code",
   "execution_count": null,
   "metadata": {},
   "outputs": [],
   "source": [
    "graphs"
   ]
  },
  {
   "cell_type": "code",
   "execution_count": null,
   "metadata": {},
   "outputs": [],
   "source": [
    "with open(graph_name, 'wb') as f:\n",
    "    pickle.dump(graphs, f)"
   ]
  },
  {
   "cell_type": "code",
   "execution_count": null,
   "metadata": {},
   "outputs": [],
   "source": [
    "df = pd.DataFrame(data, columns = ['Meta Edges', 'Meta Density','Meta Spanning Trees',\\\n",
    "                                   'Graph Edges', 'Graph Density','Graph_Spanning Trees',\\\n",
    "                                   'Number of Triangles','Time'])"
   ]
  },
  {
   "cell_type": "code",
   "execution_count": null,
   "metadata": {},
   "outputs": [],
   "source": [
    "df.to_pickle(data_name)"
   ]
  },
  {
   "cell_type": "code",
   "execution_count": null,
   "metadata": {},
   "outputs": [],
   "source": [
    "####exporting everything to a dataframe ######\n",
    "### pickle things ###\n",
    "### print top 5 and slowest 5 ###"
   ]
  },
  {
   "cell_type": "code",
   "execution_count": null,
   "metadata": {},
   "outputs": [],
   "source": []
  },
  {
   "cell_type": "code",
   "execution_count": null,
   "metadata": {},
   "outputs": [],
   "source": []
  },
  {
   "cell_type": "code",
   "execution_count": null,
   "metadata": {},
   "outputs": [],
   "source": []
  }
 ],
 "metadata": {
  "kernelspec": {
   "display_name": "Python 3",
   "language": "python",
   "name": "python3"
  },
  "language_info": {
   "codemirror_mode": {
    "name": "ipython",
    "version": 3
   },
   "file_extension": ".py",
   "mimetype": "text/x-python",
   "name": "python",
   "nbconvert_exporter": "python",
   "pygments_lexer": "ipython3",
   "version": "3.7.9"
  }
 },
 "nbformat": 4,
 "nbformat_minor": 4
}
